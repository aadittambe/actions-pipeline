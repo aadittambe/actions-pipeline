{
  "nbformat": 4,
  "nbformat_minor": 0,
  "metadata": {
    "colab": {
      "name": "usgs_analysis.ipynb",
      "provenance": [],
      "collapsed_sections": [],
      "authorship_tag": "ABX9TyMFf0GAINw6DMFC0TlxH+td",
      "include_colab_link": true
    },
    "kernelspec": {
      "name": "python3",
      "display_name": "Python 3"
    },
    "language_info": {
      "name": "python"
    }
  },
  "cells": [
    {
      "cell_type": "markdown",
      "metadata": {
        "id": "view-in-github",
        "colab_type": "text"
      },
      "source": [
        "<a href=\"https://colab.research.google.com/github/aadittambe/actions-pipeline/blob/main/usgs_analysis.ipynb\" target=\"_parent\"><img src=\"https://colab.research.google.com/assets/colab-badge.svg\" alt=\"Open In Colab\"/></a>"
      ]
    },
    {
      "cell_type": "code",
      "execution_count": 10,
      "metadata": {
        "id": "-z2USN5TJYdS"
      },
      "outputs": [],
      "source": [
        "import pandas as pd # import pandas library for data manipulation and analysis\n",
        "\n",
        "# Read in data\n",
        "df_main = pd.read_csv('https://raw.githubusercontent.com/aadittambe/actions-pipeline/main/usgs_main.csv', index_col=None) # Enter the raw url from your repository\n",
        "\n",
        "# clean data\n",
        "df_main[\"date_time\"] = pd.to_datetime(df_main[\"time\"]) # convert time to a column called datetime\n",
        "df_main.drop(\"time\", axis = 1) # drop the old time column\n",
        "\n",
        "df_main = df_main.assign(   \n",
        "    date = df_main[\"date_time\"].dt.date, # make new column with date\n",
        "    time = df_main[\"date_time\"].dt.strftime('%I:%M %p'),\n",
        "    military_time = df_main[\"date_time\"].dt.time # make new colum with time\n",
        "    )\n",
        "\n",
        "\n",
        "\n"
      ]
    },
    {
      "cell_type": "code",
      "source": [
        "# query the variables needed to contstruct a sentence\n",
        "number_earthquakes = df_main.shape[0] # return number of rows of dataframe\n",
        "earliest = df_main[df_main[\"date_time\"] == df_main[\"date_time\"].min()]\n",
        "latest = df_main[df_main[\"date_time\"] == df_main[\"date_time\"].max()]  # return the row with the earliest earthquake since you started recording\n",
        "strongest = df_main[df_main[\"mag\"] == df_main[\"mag\"].max()] # return the row with the strongest earthquakes since you started recording"
      ],
      "metadata": {
        "id": "w4MCx-V8Z3VP"
      },
      "execution_count": 11,
      "outputs": []
    },
    {
      "cell_type": "code",
      "source": [
        "# Paste the values into a sentence. If there are earthquakes that happened at the same earliest time or had the same magnitude, we are taking the first row\n",
        "print(f'Since {earliest.iloc[0][\"time\"]} on {earliest.iloc[0][\"date\"].strftime(\"%m/%d/%Y\")} there have been {number_earthquakes} recorded earthquakes. The most recent earthquake was {latest.iloc[0][\"mag\"]} in magnitude and occured in/near {latest.iloc[0][\"place\"]}. The strongest earthquakes since the start of this webscraper was {strongest.iloc[0][\"mag\"]} magnitude and located in/near {strongest.iloc[0][\"place\"]}.')"
      ],
      "metadata": {
        "colab": {
          "base_uri": "https://localhost:8080/"
        },
        "id": "5VmqjVs3JmvC",
        "outputId": "dc0e7bb4-1616-4eb3-fe8c-3469b4cb63c1"
      },
      "execution_count": 12,
      "outputs": [
        {
          "output_type": "stream",
          "name": "stdout",
          "text": [
            "Since 03:31 PM on 03/01/2022 there have been 323 recorded earthquakes. The most recent earthquake was 1.44 in magnitude and occured in/near 7 km ESE of La Parguera, Puerto Rico. The strongest earthquakes since the start of this webscraper was 6.6 magnitude and located in/near Kermadec Islands, New Zealand.\n"
          ]
        }
      ]
    }
  ]
}