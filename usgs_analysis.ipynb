{
  "nbformat": 4,
  "nbformat_minor": 0,
  "metadata": {
    "colab": {
      "name": "usgs_analysis.ipynb",
      "provenance": [],
      "collapsed_sections": [],
      "authorship_tag": "ABX9TyMrzEVqF6Sp+w4BDnHbWvWA",
      "include_colab_link": true
    },
    "kernelspec": {
      "name": "python3",
      "display_name": "Python 3"
    },
    "language_info": {
      "name": "python"
    }
  },
  "cells": [
    {
      "cell_type": "markdown",
      "metadata": {
        "id": "view-in-github",
        "colab_type": "text"
      },
      "source": [
        "<a href=\"https://colab.research.google.com/github/aadittambe/actions-pipeline/blob/main/usgs_analysis.ipynb\" target=\"_parent\"><img src=\"https://colab.research.google.com/assets/colab-badge.svg\" alt=\"Open In Colab\"/></a>"
      ]
    },
    {
      "cell_type": "markdown",
      "source": [
        "# Import Libraries"
      ],
      "metadata": {
        "id": "7IgJVp_g8cTc"
      }
    },
    {
      "cell_type": "code",
      "source": [
        "import pandas as pd # import pandas library for data manipulation and analysis"
      ],
      "metadata": {
        "id": "udZZnQwp8iEp"
      },
      "execution_count": 13,
      "outputs": []
    },
    {
      "cell_type": "markdown",
      "source": [
        "# Import and clean data from GitHub\n",
        "This code chunk imports the usgs_main.csv from the repo. It then cleans the data by taking the date column and separating it into the following columns: \n",
        "\n",
        "  - date: year-month-day format\n",
        "  - time: the time of the earthquake in 12 hour format \n",
        "  - military_time: the time of the earthquake in 24 hour format\n",
        "\n"
      ],
      "metadata": {
        "id": "SYsgAY0D8kXz"
      }
    },
    {
      "cell_type": "code",
      "execution_count": 14,
      "metadata": {
        "id": "-z2USN5TJYdS",
        "outputId": "1af2dea5-c9e9-4c3a-8655-e99aff2b4681",
        "colab": {
          "base_uri": "https://localhost:8080/",
          "height": 236
        }
      },
      "outputs": [
        {
          "output_type": "execute_result",
          "data": {
            "text/html": [
              "\n",
              "  <div id=\"df-6a34fe5a-776c-4066-8290-58d8f875c091\">\n",
              "    <div class=\"colab-df-container\">\n",
              "      <div>\n",
              "<style scoped>\n",
              "    .dataframe tbody tr th:only-of-type {\n",
              "        vertical-align: middle;\n",
              "    }\n",
              "\n",
              "    .dataframe tbody tr th {\n",
              "        vertical-align: top;\n",
              "    }\n",
              "\n",
              "    .dataframe thead th {\n",
              "        text-align: right;\n",
              "    }\n",
              "</style>\n",
              "<table border=\"1\" class=\"dataframe\">\n",
              "  <thead>\n",
              "    <tr style=\"text-align: right;\">\n",
              "      <th></th>\n",
              "      <th>time</th>\n",
              "      <th>latitude</th>\n",
              "      <th>longitude</th>\n",
              "      <th>depth</th>\n",
              "      <th>mag</th>\n",
              "      <th>magType</th>\n",
              "      <th>nst</th>\n",
              "      <th>gap</th>\n",
              "      <th>dmin</th>\n",
              "      <th>rms</th>\n",
              "      <th>...</th>\n",
              "      <th>horizontalError</th>\n",
              "      <th>depthError</th>\n",
              "      <th>magError</th>\n",
              "      <th>magNst</th>\n",
              "      <th>status</th>\n",
              "      <th>locationSource</th>\n",
              "      <th>magSource</th>\n",
              "      <th>date_time</th>\n",
              "      <th>date</th>\n",
              "      <th>military_time</th>\n",
              "    </tr>\n",
              "  </thead>\n",
              "  <tbody>\n",
              "    <tr>\n",
              "      <th>0</th>\n",
              "      <td>03:22 PM</td>\n",
              "      <td>63.719600</td>\n",
              "      <td>-150.675200</td>\n",
              "      <td>3.50</td>\n",
              "      <td>1.30</td>\n",
              "      <td>ml</td>\n",
              "      <td>NaN</td>\n",
              "      <td>NaN</td>\n",
              "      <td>NaN</td>\n",
              "      <td>0.47</td>\n",
              "      <td>...</td>\n",
              "      <td>NaN</td>\n",
              "      <td>0.40</td>\n",
              "      <td>NaN</td>\n",
              "      <td>NaN</td>\n",
              "      <td>automatic</td>\n",
              "      <td>ak</td>\n",
              "      <td>ak</td>\n",
              "      <td>2022-03-02 15:22:18.576000+00:00</td>\n",
              "      <td>2022-03-02</td>\n",
              "      <td>15:22:18.576000</td>\n",
              "    </tr>\n",
              "    <tr>\n",
              "      <th>1</th>\n",
              "      <td>03:07 PM</td>\n",
              "      <td>38.772499</td>\n",
              "      <td>-122.879837</td>\n",
              "      <td>2.03</td>\n",
              "      <td>1.43</td>\n",
              "      <td>md</td>\n",
              "      <td>28.0</td>\n",
              "      <td>148.0</td>\n",
              "      <td>0.026330</td>\n",
              "      <td>0.06</td>\n",
              "      <td>...</td>\n",
              "      <td>0.43</td>\n",
              "      <td>0.47</td>\n",
              "      <td>0.050</td>\n",
              "      <td>5.0</td>\n",
              "      <td>automatic</td>\n",
              "      <td>nc</td>\n",
              "      <td>nc</td>\n",
              "      <td>2022-03-02 15:07:07.550000+00:00</td>\n",
              "      <td>2022-03-02</td>\n",
              "      <td>15:07:07.550000</td>\n",
              "    </tr>\n",
              "    <tr>\n",
              "      <th>2</th>\n",
              "      <td>03:03 PM</td>\n",
              "      <td>-30.129500</td>\n",
              "      <td>-177.686800</td>\n",
              "      <td>35.00</td>\n",
              "      <td>5.50</td>\n",
              "      <td>mb</td>\n",
              "      <td>NaN</td>\n",
              "      <td>55.0</td>\n",
              "      <td>0.888000</td>\n",
              "      <td>1.22</td>\n",
              "      <td>...</td>\n",
              "      <td>9.80</td>\n",
              "      <td>1.90</td>\n",
              "      <td>0.034</td>\n",
              "      <td>296.0</td>\n",
              "      <td>reviewed</td>\n",
              "      <td>us</td>\n",
              "      <td>us</td>\n",
              "      <td>2022-03-02 15:03:00.177000+00:00</td>\n",
              "      <td>2022-03-02</td>\n",
              "      <td>15:03:00.177000</td>\n",
              "    </tr>\n",
              "    <tr>\n",
              "      <th>3</th>\n",
              "      <td>02:57 PM</td>\n",
              "      <td>38.832832</td>\n",
              "      <td>-122.793167</td>\n",
              "      <td>6.56</td>\n",
              "      <td>0.36</td>\n",
              "      <td>md</td>\n",
              "      <td>7.0</td>\n",
              "      <td>78.0</td>\n",
              "      <td>0.005989</td>\n",
              "      <td>0.04</td>\n",
              "      <td>...</td>\n",
              "      <td>1.14</td>\n",
              "      <td>3.40</td>\n",
              "      <td>NaN</td>\n",
              "      <td>1.0</td>\n",
              "      <td>automatic</td>\n",
              "      <td>nc</td>\n",
              "      <td>nc</td>\n",
              "      <td>2022-03-02 14:57:37.540000+00:00</td>\n",
              "      <td>2022-03-02</td>\n",
              "      <td>14:57:37.540000</td>\n",
              "    </tr>\n",
              "    <tr>\n",
              "      <th>4</th>\n",
              "      <td>02:52 PM</td>\n",
              "      <td>63.005200</td>\n",
              "      <td>-150.511600</td>\n",
              "      <td>94.40</td>\n",
              "      <td>1.60</td>\n",
              "      <td>ml</td>\n",
              "      <td>NaN</td>\n",
              "      <td>NaN</td>\n",
              "      <td>NaN</td>\n",
              "      <td>0.54</td>\n",
              "      <td>...</td>\n",
              "      <td>NaN</td>\n",
              "      <td>0.80</td>\n",
              "      <td>NaN</td>\n",
              "      <td>NaN</td>\n",
              "      <td>automatic</td>\n",
              "      <td>ak</td>\n",
              "      <td>ak</td>\n",
              "      <td>2022-03-02 14:52:25.459000+00:00</td>\n",
              "      <td>2022-03-02</td>\n",
              "      <td>14:52:25.459000</td>\n",
              "    </tr>\n",
              "  </tbody>\n",
              "</table>\n",
              "<p>5 rows × 25 columns</p>\n",
              "</div>\n",
              "      <button class=\"colab-df-convert\" onclick=\"convertToInteractive('df-6a34fe5a-776c-4066-8290-58d8f875c091')\"\n",
              "              title=\"Convert this dataframe to an interactive table.\"\n",
              "              style=\"display:none;\">\n",
              "        \n",
              "  <svg xmlns=\"http://www.w3.org/2000/svg\" height=\"24px\"viewBox=\"0 0 24 24\"\n",
              "       width=\"24px\">\n",
              "    <path d=\"M0 0h24v24H0V0z\" fill=\"none\"/>\n",
              "    <path d=\"M18.56 5.44l.94 2.06.94-2.06 2.06-.94-2.06-.94-.94-2.06-.94 2.06-2.06.94zm-11 1L8.5 8.5l.94-2.06 2.06-.94-2.06-.94L8.5 2.5l-.94 2.06-2.06.94zm10 10l.94 2.06.94-2.06 2.06-.94-2.06-.94-.94-2.06-.94 2.06-2.06.94z\"/><path d=\"M17.41 7.96l-1.37-1.37c-.4-.4-.92-.59-1.43-.59-.52 0-1.04.2-1.43.59L10.3 9.45l-7.72 7.72c-.78.78-.78 2.05 0 2.83L4 21.41c.39.39.9.59 1.41.59.51 0 1.02-.2 1.41-.59l7.78-7.78 2.81-2.81c.8-.78.8-2.07 0-2.86zM5.41 20L4 18.59l7.72-7.72 1.47 1.35L5.41 20z\"/>\n",
              "  </svg>\n",
              "      </button>\n",
              "      \n",
              "  <style>\n",
              "    .colab-df-container {\n",
              "      display:flex;\n",
              "      flex-wrap:wrap;\n",
              "      gap: 12px;\n",
              "    }\n",
              "\n",
              "    .colab-df-convert {\n",
              "      background-color: #E8F0FE;\n",
              "      border: none;\n",
              "      border-radius: 50%;\n",
              "      cursor: pointer;\n",
              "      display: none;\n",
              "      fill: #1967D2;\n",
              "      height: 32px;\n",
              "      padding: 0 0 0 0;\n",
              "      width: 32px;\n",
              "    }\n",
              "\n",
              "    .colab-df-convert:hover {\n",
              "      background-color: #E2EBFA;\n",
              "      box-shadow: 0px 1px 2px rgba(60, 64, 67, 0.3), 0px 1px 3px 1px rgba(60, 64, 67, 0.15);\n",
              "      fill: #174EA6;\n",
              "    }\n",
              "\n",
              "    [theme=dark] .colab-df-convert {\n",
              "      background-color: #3B4455;\n",
              "      fill: #D2E3FC;\n",
              "    }\n",
              "\n",
              "    [theme=dark] .colab-df-convert:hover {\n",
              "      background-color: #434B5C;\n",
              "      box-shadow: 0px 1px 3px 1px rgba(0, 0, 0, 0.15);\n",
              "      filter: drop-shadow(0px 1px 2px rgba(0, 0, 0, 0.3));\n",
              "      fill: #FFFFFF;\n",
              "    }\n",
              "  </style>\n",
              "\n",
              "      <script>\n",
              "        const buttonEl =\n",
              "          document.querySelector('#df-6a34fe5a-776c-4066-8290-58d8f875c091 button.colab-df-convert');\n",
              "        buttonEl.style.display =\n",
              "          google.colab.kernel.accessAllowed ? 'block' : 'none';\n",
              "\n",
              "        async function convertToInteractive(key) {\n",
              "          const element = document.querySelector('#df-6a34fe5a-776c-4066-8290-58d8f875c091');\n",
              "          const dataTable =\n",
              "            await google.colab.kernel.invokeFunction('convertToInteractive',\n",
              "                                                     [key], {});\n",
              "          if (!dataTable) return;\n",
              "\n",
              "          const docLinkHtml = 'Like what you see? Visit the ' +\n",
              "            '<a target=\"_blank\" href=https://colab.research.google.com/notebooks/data_table.ipynb>data table notebook</a>'\n",
              "            + ' to learn more about interactive tables.';\n",
              "          element.innerHTML = '';\n",
              "          dataTable['output_type'] = 'display_data';\n",
              "          await google.colab.output.renderOutput(dataTable, element);\n",
              "          const docLink = document.createElement('div');\n",
              "          docLink.innerHTML = docLinkHtml;\n",
              "          element.appendChild(docLink);\n",
              "        }\n",
              "      </script>\n",
              "    </div>\n",
              "  </div>\n",
              "  "
            ],
            "text/plain": [
              "       time   latitude   longitude  depth   mag magType   nst    gap  \\\n",
              "0  03:22 PM  63.719600 -150.675200   3.50  1.30      ml   NaN    NaN   \n",
              "1  03:07 PM  38.772499 -122.879837   2.03  1.43      md  28.0  148.0   \n",
              "2  03:03 PM -30.129500 -177.686800  35.00  5.50      mb   NaN   55.0   \n",
              "3  02:57 PM  38.832832 -122.793167   6.56  0.36      md   7.0   78.0   \n",
              "4  02:52 PM  63.005200 -150.511600  94.40  1.60      ml   NaN    NaN   \n",
              "\n",
              "       dmin   rms  ... horizontalError depthError magError magNst     status  \\\n",
              "0       NaN  0.47  ...             NaN       0.40      NaN    NaN  automatic   \n",
              "1  0.026330  0.06  ...            0.43       0.47    0.050    5.0  automatic   \n",
              "2  0.888000  1.22  ...            9.80       1.90    0.034  296.0   reviewed   \n",
              "3  0.005989  0.04  ...            1.14       3.40      NaN    1.0  automatic   \n",
              "4       NaN  0.54  ...             NaN       0.80      NaN    NaN  automatic   \n",
              "\n",
              "   locationSource  magSource                        date_time        date  \\\n",
              "0              ak         ak 2022-03-02 15:22:18.576000+00:00  2022-03-02   \n",
              "1              nc         nc 2022-03-02 15:07:07.550000+00:00  2022-03-02   \n",
              "2              us         us 2022-03-02 15:03:00.177000+00:00  2022-03-02   \n",
              "3              nc         nc 2022-03-02 14:57:37.540000+00:00  2022-03-02   \n",
              "4              ak         ak 2022-03-02 14:52:25.459000+00:00  2022-03-02   \n",
              "\n",
              "     military_time  \n",
              "0  15:22:18.576000  \n",
              "1  15:07:07.550000  \n",
              "2  15:03:00.177000  \n",
              "3  14:57:37.540000  \n",
              "4  14:52:25.459000  \n",
              "\n",
              "[5 rows x 25 columns]"
            ]
          },
          "metadata": {},
          "execution_count": 14
        }
      ],
      "source": [
        "\n",
        "\n",
        "# Read in data\n",
        "df_main = pd.read_csv('https://raw.githubusercontent.com/aadittambe/actions-pipeline/main/usgs_main.csv', index_col=None) # Enter the raw url from your repository\n",
        "\n",
        "# Clean data\n",
        "df_main[\"date_time\"] = pd.to_datetime(df_main[\"time\"]) # Convert time to a column called date_time\n",
        "df_main.drop(\"time\", axis = 1) # Drop the old time column\n",
        "\n",
        "df_main = df_main.assign(   \n",
        "    date = df_main[\"date_time\"].dt.date, # Make new column with date in the format year-month-day\n",
        "    time = df_main[\"date_time\"].dt.strftime('%I:%M %p'), # Make new column with 12 hour format\n",
        "    military_time = df_main[\"date_time\"].dt.time # Make new colum with 24 hour format\n",
        "    )\n",
        "\n",
        "df_main.head() # Take a look at the first five rows"
      ]
    },
    {
      "cell_type": "markdown",
      "source": [
        "pd.shape returns a tuple where the first element is the number of rows and the second element is the number of columns. "
      ],
      "metadata": {
        "id": "wruMIlPsKLMm"
      }
    },
    {
      "cell_type": "code",
      "source": [
        "df_main.shape"
      ],
      "metadata": {
        "id": "ac8tMD4WKKcV",
        "outputId": "79f55d92-526b-4680-ed21-492e47bde324",
        "colab": {
          "base_uri": "https://localhost:8080/"
        }
      },
      "execution_count": 25,
      "outputs": [
        {
          "output_type": "execute_result",
          "data": {
            "text/plain": [
              "(799, 25)"
            ]
          },
          "metadata": {},
          "execution_count": 25
        }
      ]
    },
    {
      "cell_type": "markdown",
      "source": [
        "We can filter a column for a specific conditions. The following line returns the row that has the most recent date in the `date_time` column"
      ],
      "metadata": {
        "id": "gSVIGUo_LXpf"
      }
    },
    {
      "cell_type": "code",
      "source": [
        "latest = latest = df_main[df_main[\"date_time\"] == df_main[\"date_time\"].max()]\n",
        "latest"
      ],
      "metadata": {
        "id": "OoioRyQjLtuV",
        "outputId": "27952c77-0bf7-4aab-97a9-7b4ebf18f0c6",
        "colab": {
          "base_uri": "https://localhost:8080/",
          "height": 154
        }
      },
      "execution_count": 16,
      "outputs": [
        {
          "output_type": "execute_result",
          "data": {
            "text/html": [
              "\n",
              "  <div id=\"df-ada26b33-fd29-44dd-a7e8-885aa9c77e23\">\n",
              "    <div class=\"colab-df-container\">\n",
              "      <div>\n",
              "<style scoped>\n",
              "    .dataframe tbody tr th:only-of-type {\n",
              "        vertical-align: middle;\n",
              "    }\n",
              "\n",
              "    .dataframe tbody tr th {\n",
              "        vertical-align: top;\n",
              "    }\n",
              "\n",
              "    .dataframe thead th {\n",
              "        text-align: right;\n",
              "    }\n",
              "</style>\n",
              "<table border=\"1\" class=\"dataframe\">\n",
              "  <thead>\n",
              "    <tr style=\"text-align: right;\">\n",
              "      <th></th>\n",
              "      <th>time</th>\n",
              "      <th>latitude</th>\n",
              "      <th>longitude</th>\n",
              "      <th>depth</th>\n",
              "      <th>mag</th>\n",
              "      <th>magType</th>\n",
              "      <th>nst</th>\n",
              "      <th>gap</th>\n",
              "      <th>dmin</th>\n",
              "      <th>rms</th>\n",
              "      <th>...</th>\n",
              "      <th>horizontalError</th>\n",
              "      <th>depthError</th>\n",
              "      <th>magError</th>\n",
              "      <th>magNst</th>\n",
              "      <th>status</th>\n",
              "      <th>locationSource</th>\n",
              "      <th>magSource</th>\n",
              "      <th>date_time</th>\n",
              "      <th>date</th>\n",
              "      <th>military_time</th>\n",
              "    </tr>\n",
              "  </thead>\n",
              "  <tbody>\n",
              "    <tr>\n",
              "      <th>793</th>\n",
              "      <td>04:09 AM</td>\n",
              "      <td>38.822334</td>\n",
              "      <td>-122.808166</td>\n",
              "      <td>2.69</td>\n",
              "      <td>1.13</td>\n",
              "      <td>md</td>\n",
              "      <td>26.0</td>\n",
              "      <td>37.0</td>\n",
              "      <td>0.001828</td>\n",
              "      <td>0.02</td>\n",
              "      <td>...</td>\n",
              "      <td>0.21</td>\n",
              "      <td>0.43</td>\n",
              "      <td>0.1</td>\n",
              "      <td>4.0</td>\n",
              "      <td>automatic</td>\n",
              "      <td>nc</td>\n",
              "      <td>nc</td>\n",
              "      <td>2022-03-04 04:09:44.780000+00:00</td>\n",
              "      <td>2022-03-04</td>\n",
              "      <td>04:09:44.780000</td>\n",
              "    </tr>\n",
              "  </tbody>\n",
              "</table>\n",
              "<p>1 rows × 25 columns</p>\n",
              "</div>\n",
              "      <button class=\"colab-df-convert\" onclick=\"convertToInteractive('df-ada26b33-fd29-44dd-a7e8-885aa9c77e23')\"\n",
              "              title=\"Convert this dataframe to an interactive table.\"\n",
              "              style=\"display:none;\">\n",
              "        \n",
              "  <svg xmlns=\"http://www.w3.org/2000/svg\" height=\"24px\"viewBox=\"0 0 24 24\"\n",
              "       width=\"24px\">\n",
              "    <path d=\"M0 0h24v24H0V0z\" fill=\"none\"/>\n",
              "    <path d=\"M18.56 5.44l.94 2.06.94-2.06 2.06-.94-2.06-.94-.94-2.06-.94 2.06-2.06.94zm-11 1L8.5 8.5l.94-2.06 2.06-.94-2.06-.94L8.5 2.5l-.94 2.06-2.06.94zm10 10l.94 2.06.94-2.06 2.06-.94-2.06-.94-.94-2.06-.94 2.06-2.06.94z\"/><path d=\"M17.41 7.96l-1.37-1.37c-.4-.4-.92-.59-1.43-.59-.52 0-1.04.2-1.43.59L10.3 9.45l-7.72 7.72c-.78.78-.78 2.05 0 2.83L4 21.41c.39.39.9.59 1.41.59.51 0 1.02-.2 1.41-.59l7.78-7.78 2.81-2.81c.8-.78.8-2.07 0-2.86zM5.41 20L4 18.59l7.72-7.72 1.47 1.35L5.41 20z\"/>\n",
              "  </svg>\n",
              "      </button>\n",
              "      \n",
              "  <style>\n",
              "    .colab-df-container {\n",
              "      display:flex;\n",
              "      flex-wrap:wrap;\n",
              "      gap: 12px;\n",
              "    }\n",
              "\n",
              "    .colab-df-convert {\n",
              "      background-color: #E8F0FE;\n",
              "      border: none;\n",
              "      border-radius: 50%;\n",
              "      cursor: pointer;\n",
              "      display: none;\n",
              "      fill: #1967D2;\n",
              "      height: 32px;\n",
              "      padding: 0 0 0 0;\n",
              "      width: 32px;\n",
              "    }\n",
              "\n",
              "    .colab-df-convert:hover {\n",
              "      background-color: #E2EBFA;\n",
              "      box-shadow: 0px 1px 2px rgba(60, 64, 67, 0.3), 0px 1px 3px 1px rgba(60, 64, 67, 0.15);\n",
              "      fill: #174EA6;\n",
              "    }\n",
              "\n",
              "    [theme=dark] .colab-df-convert {\n",
              "      background-color: #3B4455;\n",
              "      fill: #D2E3FC;\n",
              "    }\n",
              "\n",
              "    [theme=dark] .colab-df-convert:hover {\n",
              "      background-color: #434B5C;\n",
              "      box-shadow: 0px 1px 3px 1px rgba(0, 0, 0, 0.15);\n",
              "      filter: drop-shadow(0px 1px 2px rgba(0, 0, 0, 0.3));\n",
              "      fill: #FFFFFF;\n",
              "    }\n",
              "  </style>\n",
              "\n",
              "      <script>\n",
              "        const buttonEl =\n",
              "          document.querySelector('#df-ada26b33-fd29-44dd-a7e8-885aa9c77e23 button.colab-df-convert');\n",
              "        buttonEl.style.display =\n",
              "          google.colab.kernel.accessAllowed ? 'block' : 'none';\n",
              "\n",
              "        async function convertToInteractive(key) {\n",
              "          const element = document.querySelector('#df-ada26b33-fd29-44dd-a7e8-885aa9c77e23');\n",
              "          const dataTable =\n",
              "            await google.colab.kernel.invokeFunction('convertToInteractive',\n",
              "                                                     [key], {});\n",
              "          if (!dataTable) return;\n",
              "\n",
              "          const docLinkHtml = 'Like what you see? Visit the ' +\n",
              "            '<a target=\"_blank\" href=https://colab.research.google.com/notebooks/data_table.ipynb>data table notebook</a>'\n",
              "            + ' to learn more about interactive tables.';\n",
              "          element.innerHTML = '';\n",
              "          dataTable['output_type'] = 'display_data';\n",
              "          await google.colab.output.renderOutput(dataTable, element);\n",
              "          const docLink = document.createElement('div');\n",
              "          docLink.innerHTML = docLinkHtml;\n",
              "          element.appendChild(docLink);\n",
              "        }\n",
              "      </script>\n",
              "    </div>\n",
              "  </div>\n",
              "  "
            ],
            "text/plain": [
              "         time   latitude   longitude  depth   mag magType   nst   gap  \\\n",
              "793  04:09 AM  38.822334 -122.808166   2.69  1.13      md  26.0  37.0   \n",
              "\n",
              "         dmin   rms  ... horizontalError depthError magError magNst  \\\n",
              "793  0.001828  0.02  ...            0.21       0.43      0.1    4.0   \n",
              "\n",
              "        status  locationSource  magSource                        date_time  \\\n",
              "793  automatic              nc         nc 2022-03-04 04:09:44.780000+00:00   \n",
              "\n",
              "           date    military_time  \n",
              "793  2022-03-04  04:09:44.780000  \n",
              "\n",
              "[1 rows x 25 columns]"
            ]
          },
          "metadata": {},
          "execution_count": 16
        }
      ]
    },
    {
      "cell_type": "markdown",
      "source": [
        "Now that we have the most recent earthquake, we can grab values that we want from it, like the magnitude. "
      ],
      "metadata": {
        "id": "yhF1ppvDL7M1"
      }
    },
    {
      "cell_type": "code",
      "source": [
        "latest.iloc[0][\"mag\"]"
      ],
      "metadata": {
        "id": "gadKCMpCL6Pk",
        "outputId": "0b857489-d191-4272-8c95-3a8cef4bfb93",
        "colab": {
          "base_uri": "https://localhost:8080/"
        }
      },
      "execution_count": 17,
      "outputs": [
        {
          "output_type": "execute_result",
          "data": {
            "text/plain": [
              "1.13"
            ]
          },
          "metadata": {},
          "execution_count": 17
        }
      ]
    },
    {
      "cell_type": "markdown",
      "source": [
        "# Create variables to reference for the analysis sentence\n",
        "This code chunk filters the usg_main.csv to calculate:\n",
        "- the number of earthquakes in the dataframe\n",
        "- the earliest earthquake that occured in the dataframe\n",
        "- the latest earthquake that occured in the dataframe \n",
        "- the strongest earthquake that occured in the dataframe  "
      ],
      "metadata": {
        "id": "2OXeqgYxAEQd"
      }
    },
    {
      "cell_type": "code",
      "source": [
        "# Query the dataframe to isolate types of earthquakes, to write a sentence about\n",
        "number_earthquakes = df_main.shape[0] # Return number of rows of dataframe\n",
        "earliest = df_main[df_main[\"date_time\"] == df_main[\"date_time\"].min()]\n",
        "latest = df_main[df_main[\"date_time\"] == df_main[\"date_time\"].max()]  # Return the row with the earliest earthquake since you started recording\n",
        "strongest = df_main[df_main[\"mag\"] == df_main[\"mag\"].max()] # Return the row with the strongest earthquakes since you started recording"
      ],
      "metadata": {
        "id": "w4MCx-V8Z3VP"
      },
      "execution_count": 18,
      "outputs": []
    },
    {
      "cell_type": "markdown",
      "source": [
        "# Write a sentence that dynamically updates\n",
        "\n",
        "This code chunk injects the variables constructed above into an string that updates with the latest variables"
      ],
      "metadata": {
        "id": "8Szl4V2NCHyB"
      }
    },
    {
      "cell_type": "code",
      "source": [
        "# Paste the values into a sentence. If there are earthquakes that happened at the same earliest time or had the same magnitude, we are taking the first row\n",
        "print(f'Since {earliest.iloc[0][\"time\"]} on {earliest.iloc[0][\"date\"].strftime(\"%m/%d/%Y\")} there have been {number_earthquakes} recorded earthquakes. {chr(10)} The most recent earthquake was {latest.iloc[0][\"mag\"]} in magnitude and occured in/near {latest.iloc[0][\"place\"]} on {latest.iloc[0][\"date\"]} at {latest.iloc[0][\"time\"]}.{chr(10)} The strongest earthquakes since the start of this webscraper was {strongest.iloc[0][\"mag\"]} magnitude and occured in/near {strongest.iloc[0][\"place\"]} on {strongest.iloc[0][\"date\"]} at {strongest.iloc[0][\"time\"]}.')"
      ],
      "metadata": {
        "colab": {
          "base_uri": "https://localhost:8080/"
        },
        "id": "5VmqjVs3JmvC",
        "outputId": "7d56f4de-f943-473c-d2e9-52b249e79053"
      },
      "execution_count": 33,
      "outputs": [
        {
          "output_type": "stream",
          "name": "stdout",
          "text": [
            "Since 03:31 PM on 03/01/2022 there have been 799 recorded earthquakes. \n",
            " The most recent earthquake was 1.13 in magnitude and occured in/near 7km NW of The Geysers, CA on 2022-03-04 at 04:09 AM.\n",
            " The strongest earthquakes since the start of this webscraper was 6.6 magnitude and occured in/near Kermadec Islands, New Zealand on 2022-03-02 at 12:52 PM.\n"
          ]
        }
      ]
    },
    {
      "cell_type": "code",
      "source": [
        ""
      ],
      "metadata": {
        "id": "d1WRKZ-UQL98",
        "outputId": "9353ab09-b9c5-4aa9-db0a-7480439b8c40",
        "colab": {
          "base_uri": "https://localhost:8080/",
          "height": 35
        }
      },
      "execution_count": 26,
      "outputs": [
        {
          "output_type": "execute_result",
          "data": {
            "application/vnd.google.colaboratory.intrinsic+json": {
              "type": "string"
            },
            "text/plain": [
              "'\\n'"
            ]
          },
          "metadata": {},
          "execution_count": 26
        }
      ]
    }
  ]
}